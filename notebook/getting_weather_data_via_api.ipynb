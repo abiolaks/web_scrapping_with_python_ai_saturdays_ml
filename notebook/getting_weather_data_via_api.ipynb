{
 "cells": [
  {
   "cell_type": "code",
   "execution_count": null,
   "id": "e3660b83",
   "metadata": {},
   "outputs": [
    {
     "name": "stdout",
     "output_type": "stream",
     "text": [
      "Weather data saved to nigeria_weather.csv\n"
     ]
    }
   ],
   "source": [
    "import requests\n",
    "import csv\n",
    "import time\n",
    "import os\n",
    "from dotenv import load_dotenv\n",
    "\n",
    "\n",
    "load_dotenv()  # Load environment variables from .env file\n",
    "\n",
    "# ==== SETTINGS ====\n",
    "API_KEY = os.getenv(\"weather_api_key\")   # Replace with your OpenWeatherMap API key\n",
    "BASE_URL = \"https://api.openweathermap.org/data/2.5/weather\"\n",
    "OUTPUT_FILE = \"../scraped_data/nigeria_weather.csv\"\n",
    "\n",
    "# Example list of Nigerian cities (You can expand this list or use a full CSV)\n",
    "cities = [\n",
    "    \"Lagos\", \"Abuja\", \"Kano\", \"Ibadan\", \"Port Harcourt\", \"Benin City\",\n",
    "    \"Maiduguri\", \"Zaria\", \"Aba\", \"Jos\", \"Ilorin\", \"Enugu\", \"Oyo\",\n",
    "    \"Abeokuta\", \"Onitsha\", \"Warri\", \"Calabar\", \"Sokoto\", \"Uyo\", \"Kaduna\"\n",
    "]\n",
    "\n",
    "# ==== FUNCTION TO FETCH WEATHER ====\n",
    "def get_weather(city):\n",
    "    params = {\n",
    "        \"q\": f\"{city},NG\",\n",
    "        \"appid\": API_KEY,\n",
    "        \"units\": \"metric\"\n",
    "    }\n",
    "    response = requests.get(BASE_URL, params=params)\n",
    "    if response.status_code == 200:\n",
    "        data = response.json()\n",
    "        return {\n",
    "            \"city\": city,\n",
    "            \"lat\": data[\"coord\"][\"lat\"],\n",
    "            \"lon\": data[\"coord\"][\"lon\"],\n",
    "            \"weather\": data[\"weather\"][0][\"main\"],\n",
    "            \"description\": data[\"weather\"][0][\"description\"],\n",
    "            \"temperature_C\": data[\"main\"][\"temp\"],\n",
    "            \"humidity_%\": data[\"main\"][\"humidity\"],\n",
    "            \"wind_speed_mps\": data[\"wind\"][\"speed\"],\n",
    "            \"timestamp\": data[\"dt\"]\n",
    "        }\n",
    "    else:\n",
    "        print(f\"Failed to get data for {city}: {response.status_code}\")\n",
    "        return None\n",
    "\n",
    "# ==== MAIN SCRIPT ====\n",
    "if __name__ == \"__main__\":\n",
    "    all_data = []\n",
    "    \n",
    "    for city in cities:\n",
    "        weather_data = get_weather(city)\n",
    "        if weather_data:\n",
    "            all_data.append(weather_data)\n",
    "        time.sleep(1)  # Respect API rate limit (60 calls/minute for free plan)\n",
    "    \n",
    "    # Save to CSV\n",
    "    with open(OUTPUT_FILE, mode=\"w\", newline=\"\", encoding=\"utf-8\") as f:\n",
    "        writer = csv.DictWriter(f, fieldnames=all_data[0].keys())\n",
    "        writer.writeheader()\n",
    "        writer.writerows(all_data)\n",
    "    \n",
    "    print(f\"Weather data saved to {OUTPUT_FILE}\")\n"
   ]
  },
  {
   "cell_type": "code",
   "execution_count": null,
   "id": "03f5790e",
   "metadata": {},
   "outputs": [],
   "source": []
  }
 ],
 "metadata": {
  "kernelspec": {
   "display_name": "Python 3",
   "language": "python",
   "name": "python3"
  },
  "language_info": {
   "codemirror_mode": {
    "name": "ipython",
    "version": 3
   },
   "file_extension": ".py",
   "mimetype": "text/x-python",
   "name": "python",
   "nbconvert_exporter": "python",
   "pygments_lexer": "ipython3",
   "version": "3.10.18"
  }
 },
 "nbformat": 4,
 "nbformat_minor": 5
}
