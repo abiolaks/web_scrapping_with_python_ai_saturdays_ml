{
 "cells": [
  {
   "cell_type": "code",
   "execution_count": 25,
   "id": "1a4e8534",
   "metadata": {},
   "outputs": [],
   "source": [
    "import requests\n",
    "from bs4 import BeautifulSoup\n",
    "import pandas as pd\n",
    "import time\n",
    "import re\n",
    "\n",
    "from ftfy import fix_text\n",
    "import unicodedata"
   ]
  },
  {
   "cell_type": "code",
   "execution_count": null,
   "id": "5d0255ba",
   "metadata": {},
   "outputs": [
    {
     "name": "stdout",
     "output_type": "stream",
     "text": [
      "Scraping page 1...\n",
      "Scraping page 2...\n",
      "Scraping page 3...\n",
      "Scraping page 4...\n",
      "Scraping page 5...\n",
      "Scraping page 6...\n",
      "Scraping page 7...\n",
      "Scraping page 8...\n",
      "Scraping page 9...\n",
      "Scraping page 10...\n",
      "Scraping page 11...\n",
      "Scraping page 12...\n",
      "Scraping page 13...\n",
      "Scraping page 14...\n",
      "Scraping page 15...\n",
      "Scraping page 16...\n",
      "Scraping page 17...\n",
      "Scraping page 18...\n",
      "Scraping page 19...\n",
      "Scraping page 20...\n",
      "Scraping page 21...\n",
      "Scraping page 22...\n",
      "Scraping page 23...\n",
      "Scraping page 24...\n",
      "Scraping page 25...\n",
      "Scraping page 26...\n",
      "Scraping page 27...\n",
      "Scraping page 28...\n",
      "Scraping page 29...\n",
      "Scraping page 30...\n",
      "Scraping page 31...\n",
      "Scraping page 32...\n",
      "Scraping page 33...\n",
      "Scraping page 34...\n",
      "Scraping page 35...\n",
      "Scraping page 36...\n",
      "Scraping page 37...\n",
      "Scraping page 38...\n",
      "Scraping page 39...\n",
      "Scraping page 40...\n",
      "Scraping page 41...\n",
      "Scraping page 42...\n",
      "Scraping page 43...\n",
      "Scraping page 44...\n",
      "Scraping page 45...\n",
      "Scraping page 46...\n",
      "Scraping page 47...\n",
      "Scraping page 48...\n",
      "Scraping page 49...\n",
      "Scraping page 50...\n",
      "Scraping complete! Data saved to books_detailed_dataset.csv\n"
     ]
    }
   ],
   "source": [
    "\n",
    "\n",
    "BASE_URL = \"http://books.toscrape.com/catalogue/page-{}.html\"\n",
    "BASE_SITE = \"http://books.toscrape.com/catalogue/\"\n",
    "\n",
    "books = []\n",
    "\n",
    "for page in range(1, 51):  # Loop through all 50 pages\n",
    "    print(f\"Scraping page {page}...\")\n",
    "    url = BASE_URL.format(page)\n",
    "    response = requests.get(url)\n",
    "    soup = BeautifulSoup(response.text, 'html.parser')\n",
    "\n",
    "    for book in soup.find_all(\"article\", class_=\"product_pod\"):\n",
    "        # Basic info from listing page\n",
    "        title = book.h3.a[\"title\"]\n",
    "        price = book.find(\"p\", class_=\"price_color\").text.strip()\n",
    "        rating = book.p[\"class\"][1]  \n",
    "        \n",
    "        # Book detail page link\n",
    "        book_url = BASE_SITE + book.h3.a[\"href\"].replace('../../../', '')\n",
    "        book_resp = requests.get(book_url)\n",
    "        book_soup = BeautifulSoup(book_resp.text, 'html.parser')\n",
    "\n",
    "        # Category\n",
    "        category = book_soup.find(\"ul\", class_=\"breadcrumb\").find_all(\"li\")[2].text.strip()\n",
    "\n",
    "        # Product description\n",
    "        desc_tag = book_soup.find(\"div\", id=\"product_description\")\n",
    "        description = desc_tag.find_next_sibling(\"p\").text.strip() if desc_tag else \"\"\n",
    "\n",
    "        # Table info (UPC, stock)\n",
    "        table_rows = book_soup.find(\"table\", class_=\"table table-striped\").find_all(\"tr\")\n",
    "        upc = table_rows[0].find(\"td\").text.strip()\n",
    "        stock_text = table_rows[5].find(\"td\").text.strip()\n",
    "        \n",
    "        # Extract stock number (e.g., \"In stock (22 available)\")\n",
    "        stock_count = ''.join([c for c in stock_text if c.isdigit()])\n",
    "\n",
    "        # Availability (from list page, cleaned)\n",
    "        availability = book.find(\"p\", class_=\"instock availability\").text.strip()\n",
    "\n",
    "        books.append({\n",
    "            \"Title\": title,\n",
    "            \"Price\": price,\n",
    "            \"Availability\": availability,\n",
    "            \"Stock Count\": stock_count,\n",
    "            \"Rating\": rating,\n",
    "            \"Category\": category,\n",
    "            \"UPC\": upc,\n",
    "            \"Description\": description\n",
    "        })\n",
    "\n",
    "        time.sleep(0.2)  # short delay for detail page requests\n",
    "\n",
    "    time.sleep(1)  # delay for page requests\n",
    "\n",
    "# Save to CSV\n",
    "df = pd.DataFrame(books)\n",
    "df.to_csv(\"../scraped_data/books_detailed_dataset.csv\", index=False, encoding=\"utf-8\")\n",
    "print(\"Scraping complete! Data saved to books_detailed_dataset.csv\")\n"
   ]
  },
  {
   "cell_type": "code",
   "execution_count": 14,
   "id": "c921aebf",
   "metadata": {},
   "outputs": [
    {
     "data": {
      "text/html": [
       "<div>\n",
       "<style scoped>\n",
       "    .dataframe tbody tr th:only-of-type {\n",
       "        vertical-align: middle;\n",
       "    }\n",
       "\n",
       "    .dataframe tbody tr th {\n",
       "        vertical-align: top;\n",
       "    }\n",
       "\n",
       "    .dataframe thead th {\n",
       "        text-align: right;\n",
       "    }\n",
       "</style>\n",
       "<table border=\"1\" class=\"dataframe\">\n",
       "  <thead>\n",
       "    <tr style=\"text-align: right;\">\n",
       "      <th></th>\n",
       "      <th>Title</th>\n",
       "      <th>Price</th>\n",
       "      <th>Availability</th>\n",
       "      <th>Stock Count</th>\n",
       "      <th>Rating</th>\n",
       "      <th>Category</th>\n",
       "      <th>UPC</th>\n",
       "      <th>Description</th>\n",
       "    </tr>\n",
       "  </thead>\n",
       "  <tbody>\n",
       "    <tr>\n",
       "      <th>0</th>\n",
       "      <td>A Light in the Attic</td>\n",
       "      <td>Â£51.77</td>\n",
       "      <td>In stock</td>\n",
       "      <td>22</td>\n",
       "      <td>Three</td>\n",
       "      <td>Poetry</td>\n",
       "      <td>a897fe39b1053632</td>\n",
       "      <td>It's hard to imagine a world without A Light i...</td>\n",
       "    </tr>\n",
       "    <tr>\n",
       "      <th>1</th>\n",
       "      <td>Tipping the Velvet</td>\n",
       "      <td>Â£53.74</td>\n",
       "      <td>In stock</td>\n",
       "      <td>20</td>\n",
       "      <td>One</td>\n",
       "      <td>Historical Fiction</td>\n",
       "      <td>90fa61229261140a</td>\n",
       "      <td>\"Erotic and absorbing...Written with starling ...</td>\n",
       "    </tr>\n",
       "    <tr>\n",
       "      <th>2</th>\n",
       "      <td>Soumission</td>\n",
       "      <td>Â£50.10</td>\n",
       "      <td>In stock</td>\n",
       "      <td>20</td>\n",
       "      <td>One</td>\n",
       "      <td>Fiction</td>\n",
       "      <td>6957f44c3847a760</td>\n",
       "      <td>Dans une France assez proche de la nÃ´tre, un ...</td>\n",
       "    </tr>\n",
       "    <tr>\n",
       "      <th>3</th>\n",
       "      <td>Sharp Objects</td>\n",
       "      <td>Â£47.82</td>\n",
       "      <td>In stock</td>\n",
       "      <td>20</td>\n",
       "      <td>Four</td>\n",
       "      <td>Mystery</td>\n",
       "      <td>e00eb4fd7b871a48</td>\n",
       "      <td>WICKED above her hipbone, GIRL across her hear...</td>\n",
       "    </tr>\n",
       "    <tr>\n",
       "      <th>4</th>\n",
       "      <td>Sapiens: A Brief History of Humankind</td>\n",
       "      <td>Â£54.23</td>\n",
       "      <td>In stock</td>\n",
       "      <td>20</td>\n",
       "      <td>Five</td>\n",
       "      <td>History</td>\n",
       "      <td>4165285e1663650f</td>\n",
       "      <td>From a renowned historian comes a groundbreaki...</td>\n",
       "    </tr>\n",
       "  </tbody>\n",
       "</table>\n",
       "</div>"
      ],
      "text/plain": [
       "                                   Title    Price Availability Stock Count  \\\n",
       "0                   A Light in the Attic  Â£51.77     In stock          22   \n",
       "1                     Tipping the Velvet  Â£53.74     In stock          20   \n",
       "2                             Soumission  Â£50.10     In stock          20   \n",
       "3                          Sharp Objects  Â£47.82     In stock          20   \n",
       "4  Sapiens: A Brief History of Humankind  Â£54.23     In stock          20   \n",
       "\n",
       "  Rating            Category               UPC  \\\n",
       "0  Three              Poetry  a897fe39b1053632   \n",
       "1    One  Historical Fiction  90fa61229261140a   \n",
       "2    One             Fiction  6957f44c3847a760   \n",
       "3   Four             Mystery  e00eb4fd7b871a48   \n",
       "4   Five             History  4165285e1663650f   \n",
       "\n",
       "                                         Description  \n",
       "0  It's hard to imagine a world without A Light i...  \n",
       "1  \"Erotic and absorbing...Written with starling ...  \n",
       "2  Dans une France assez proche de la nÃ´tre, un ...  \n",
       "3  WICKED above her hipbone, GIRL across her hear...  \n",
       "4  From a renowned historian comes a groundbreaki...  "
      ]
     },
     "execution_count": 14,
     "metadata": {},
     "output_type": "execute_result"
    }
   ],
   "source": [
    "df.head()"
   ]
  },
  {
   "cell_type": "code",
   "execution_count": null,
   "id": "779f1b13",
   "metadata": {},
   "outputs": [
    {
     "data": {
      "text/plain": [
       "0    Â£51.77\n",
       "1    Â£53.74\n",
       "2    Â£50.10\n",
       "3    Â£47.82\n",
       "4    Â£54.23\n",
       "Name: Price, dtype: object"
      ]
     },
     "execution_count": 16,
     "metadata": {},
     "output_type": "execute_result"
    }
   ],
   "source": [
    "df.Price.head() \n",
    "# issue with the format of the price"
   ]
  },
  {
   "cell_type": "code",
   "execution_count": 18,
   "id": "1cd8aad1",
   "metadata": {},
   "outputs": [],
   "source": [
    "# fixing the price format\n",
    "# Fix mojibake -> strip non-digits -> to float\n",
    "df[\"PriceGBP\"] = (\n",
    "    df[\"Price\"]\n",
    "      .astype(str)\n",
    "      .str.replace(\"\\xa0\", \" \", regex=False)                  # kill NBSP\n",
    "      .str.encode(\"latin1\", \"ignore\").str.decode(\"utf-8\", \"ignore\")  # Â£ -> £\n",
    "      .str.replace(\",\", \"\", regex=False)                      # remove thousand sep if any\n",
    "      .str.replace(r\"[^\\d.\\-]\", \"\", regex=True)               # drop £ and any other symbols\n",
    "      .replace(\"\", pd.NA)\n",
    "      .astype(float)\n",
    ")"
   ]
  },
  {
   "cell_type": "code",
   "execution_count": 19,
   "id": "45c53764",
   "metadata": {},
   "outputs": [
    {
     "data": {
      "text/plain": [
       "0    51.77\n",
       "1    53.74\n",
       "2    50.10\n",
       "3    47.82\n",
       "4    54.23\n",
       "Name: PriceGBP, dtype: float64"
      ]
     },
     "execution_count": 19,
     "metadata": {},
     "output_type": "execute_result"
    }
   ],
   "source": [
    "df.PriceGBP.head()"
   ]
  },
  {
   "cell_type": "code",
   "execution_count": 20,
   "id": "c4275a9f",
   "metadata": {},
   "outputs": [
    {
     "name": "stdout",
     "output_type": "stream",
     "text": [
      "<class 'pandas.core.frame.DataFrame'>\n",
      "RangeIndex: 1000 entries, 0 to 999\n",
      "Data columns (total 9 columns):\n",
      " #   Column        Non-Null Count  Dtype  \n",
      "---  ------        --------------  -----  \n",
      " 0   Title         1000 non-null   object \n",
      " 1   Price         1000 non-null   object \n",
      " 2   Availability  1000 non-null   object \n",
      " 3   Stock Count   1000 non-null   object \n",
      " 4   Rating        1000 non-null   object \n",
      " 5   Category      1000 non-null   object \n",
      " 6   UPC           1000 non-null   object \n",
      " 7   Description   1000 non-null   object \n",
      " 8   PriceGBP      1000 non-null   float64\n",
      "dtypes: float64(1), object(8)\n",
      "memory usage: 70.4+ KB\n"
     ]
    }
   ],
   "source": [
    "df.info()"
   ]
  },
  {
   "cell_type": "code",
   "execution_count": 22,
   "id": "ca3ced6c",
   "metadata": {},
   "outputs": [
    {
     "data": {
      "text/plain": [
       "0     It's hard to imagine a world without A Light i...\n",
       "1     \"Erotic and absorbing...Written with starling ...\n",
       "2     Dans une France assez proche de la nÃ´tre, un ...\n",
       "3     WICKED above her hipbone, GIRL across her hear...\n",
       "4     From a renowned historian comes a groundbreaki...\n",
       "5     Patient Twenty-nine.A monster roams the halls ...\n",
       "6     Drawing on his extensive experience evaluating...\n",
       "7     \"If you have a heart, if you have a soul, Kare...\n",
       "8     For readers of Laura Hillenbrand's Seabiscuit ...\n",
       "9     Praise for Aracelis Girmay:\"[Girmay's] every l...\n",
       "10    Since her assault, Miss Annette Chetwynd has b...\n",
       "11    This book is an important and complete collect...\n",
       "12    Aaron Ledbetterâs future had been planned ou...\n",
       "13    Scott Pilgrim's life is totally sweet. He's 23...\n",
       "14    Punk's raw power rejuvenated rock, but by the ...\n",
       "15    This is the never-before-told story of the mus...\n",
       "16    Part fact, part fiction, Tyehimba Jess's much ...\n",
       "17    Andrew Barger, award-winning author and engine...\n",
       "18    Libertarianism isn't about winning elections; ...\n",
       "19    âWherever you go, whatever you do, just . . ...\n",
       "Name: Description, dtype: object"
      ]
     },
     "execution_count": 22,
     "metadata": {},
     "output_type": "execute_result"
    }
   ],
   "source": [
    "df.Description.head(20)"
   ]
  },
  {
   "cell_type": "code",
   "execution_count": 26,
   "id": "fea85aff",
   "metadata": {},
   "outputs": [
    {
     "name": "stdout",
     "output_type": "stream",
     "text": [
      "[\"It's hard to imagine a world without A Light in the Attic. This now-classic collection of poetry and drawings from Shel Silverstein celebrates its 20th anniversary with this special edition. Silverstein's humorous and creative verse can amuse the dowdiest of readers. Lemon-faced adults and fidgety kids sit still and read these rhythmic words and laugh and smile and love th It's hard to imagine a world without A Light in the Attic. This now-classic collection of poetry and drawings from Shel Silverstein celebrates its 20th anniversary with this special edition. Silverstein's humorous and creative verse can amuse the dowdiest of readers. Lemon-faced adults and fidgety kids sit still and read these rhythmic words and laugh and smile and love that Silverstein. Need proof of his genius? RockabyeRockabye baby, in the treetopDon't you know a treetopIs no safe place to rock?And who put you up there,And your cradle, too?Baby, I think someone down here'sGot it in for you. Shel, you never sounded so good. ...more\", '\"Erotic and absorbing...Written with starling power.\"--\"The New York Times Book Review \" Nan King, an oyster girl, is captivated by the music hall phenomenon Kitty Butler, a male impersonator extraordinaire treading the boards in Canterbury. Through a friend at the box office, Nan manages to visit all her shows and finally meet her heroine. Soon after, she becomes Kitty\\'s \"Erotic and absorbing...Written with starling power.\"--\"The New York Times Book Review \" Nan King, an oyster girl, is captivated by the music hall phenomenon Kitty Butler, a male impersonator extraordinaire treading the boards in Canterbury. Through a friend at the box office, Nan manages to visit all her shows and finally meet her heroine. Soon after, she becomes Kitty\\'s dresser and the two head for the bright lights of Leicester Square where they begin a glittering career as music-hall stars in an all-singing and dancing double act. At the same time, behind closed doors, they admit their attraction to each other and their affair begins. ...more', \"Dans une France assez proche de la nôtre, un homme s'engage dans la carrière universitaire. Peu motivé par l'enseignement, il s'attend à une vie ennuyeuse mais calme, protégée des grands drames historiques. Cependant les forces en jeu dans le pays ont fissuré le système politique jusqu'à provoquer son effondrement. Cette implosion sans soubresauts, sans vraie révolution, s Dans une France assez proche de la nôtre, un homme s'engage dans la carrière universitaire. Peu motivé par l'enseignement, il s'attend à une vie ennuyeuse mais calme, protégée des grands drames historiques. Cependant les forces en jeu dans le pays ont fissuré le système politique jusqu'à provoquer son effondrement. Cette implosion sans soubresauts, sans vraie révolution, se développe comme un mauvais rêve.Le talent de l'auteur, sa force visionnaire nous entraînent sur un terrain ambigu et glissant ; son regard sur notre civilisation vieillissante fait coexister dans ce roman les intuitions poétiques, les effets comiques, une mélancolie fataliste.Ce livre est une saisissante fable politique et morale. ...more\", \"WICKED above her hipbone, GIRL across her heart Words are like a road map to reporter Camille Preaker's troubled past. Fresh from a brief stay at a psych hospital, Camille's first assignment from the second-rate daily paper where she works brings her reluctantly back to her hometown to cover the murders of two preteen girls. NASTY on her kneecap, BABYDOLL on her leg Since WICKED above her hipbone, GIRL across her heart Words are like a road map to reporter Camille Preaker's troubled past. Fresh from a brief stay at a psych hospital, Camille's first assignment from the second-rate daily paper where she works brings her reluctantly back to her hometown to cover the murders of two preteen girls. NASTY on her kneecap, BABYDOLL on her leg Since she left town eight years ago, Camille has hardly spoken to her neurotic, hypochondriac mother or to the half-sister she barely knows: a beautiful thirteen-year-old with an eerie grip on the town. Now, installed again in her family's Victorian mansion, Camille is haunted by the childhood tragedy she has spent her whole life trying to cut from her memory. HARMFUL on her wrist, WHORE on her ankle As Camille works to uncover the truth about these violent crimes, she finds herself identifying with the young victims—a bit too strongly. Clues keep leading to dead ends, forcing Camille to unravel the psychological puzzle of her own past to get at the story. Dogged by her own demons, Camille will have to confront what happened to her years before if she wants to survive this homecoming.With its taut, crafted writing, Sharp Objects is addictive, haunting, and unforgettable. ...more\", 'From a renowned historian comes a groundbreaking narrative of humanity\\'s creation and evolution—a #1 international bestseller—that explores the ways in which biology and history have defined us and enhanced our understanding of what it means to be \"human.\"One hundred thousand years ago, at least six different species of humans inhabited Earth. Yet today there is only one—h From a renowned historian comes a groundbreaking narrative of humanity\\'s creation and evolution—a #1 international bestseller—that explores the ways in which biology and history have defined us and enhanced our understanding of what it means to be \"human.\"One hundred thousand years ago, at least six different species of humans inhabited Earth. Yet today there is only one—homo sapiens. What happened to the others? And what may happen to us?Most books about the history of humanity pursue either a historical or a biological approach, but Dr. Yuval Noah Harari breaks the mold with this highly original book that begins about 70,000 years ago with the appearance of modern cognition. From examining the role evolving humans have played in the global ecosystem to charting the rise of empires, Sapiens integrates history and science to reconsider accepted narratives, connect past developments with contemporary concerns, and examine specific events within the context of larger ideas.Dr. Harari also compels us to look ahead, because over the last few decades humans have begun to bend laws of natural selection that have governed life for the past four billion years. We are acquiring the ability to design not only the world around us, but also ourselves. Where is this leading us, and what do we want to become?Featuring 27 photographs, 6 maps, and 25 illustrations/diagrams, this provocative and insightful work is sure to spark debate and is essential reading for aficionados of Jared Diamond, James Gleick, Matt Ridley, Robert Wright, and Sharon Moalem. ...more', \"Patient Twenty-nine.A monster roams the halls of Soothing Hills Asylum. Three girls dead. 29 is endowed with the curse...or gift of perception. She hears messages in music, sees lyrics in paintings. And the corn. A lifetime asylum resident, the orchestral corn music is the only constant in her life.Mason, a new, kind orderly, sees 29 as a woman, not a lunatic. And as his bel Patient Twenty-nine.A monster roams the halls of Soothing Hills Asylum. Three girls dead. 29 is endowed with the curse...or gift of perception. She hears messages in music, sees lyrics in paintings. And the corn. A lifetime asylum resident, the orchestral corn music is the only constant in her life.Mason, a new, kind orderly, sees 29 as a woman, not a lunatic. And as his belief in her grows, so does her self- confidence. That perhaps she might escape, might see the outside world. But the monster has other plans. The missing girls share one common thread...each was twenty-nine's cell mate. Will she be next? ...more\", \"Drawing on his extensive experience evaluating applicants for his marketing agency, and featuring stories based on real-life situations, sample cover letters, resumes, and straightforward advice, Don Raskin's The Dirty Little Secrets of Getting Your Dream Job offers all the necessary tools for navigating the tough job market and securing your dream job.Don Raskin owns and Drawing on his extensive experience evaluating applicants for his marketing agency, and featuring stories based on real-life situations, sample cover letters, resumes, and straightforward advice, Don Raskin's The Dirty Little Secrets of Getting Your Dream Job offers all the necessary tools for navigating the tough job market and securing your dream job.Don Raskin owns and operates MME, an advertising and marketing agency in New York City. During his twenty-five years at the agency he has interviewed hundreds of new college graduates for positions within his agency and has placed a strong emphasis on entry-level recruitment for positions in creative, account management, traffic, and production. Raskin has also mentored countless students and their parents on best practices for the job search. Over the years, Raskin has kept exceptionally detailed notes on the interviews he has conducted, observing the good, the bad, the ridiculous, the irreverent. He also has a treasure trove of over-the-top cover letters, resumes, interviews, and post interview follow-ups he has conducted and received. Now, he wants to share all the wisdom and insider secrets he has gathered to help students and first-time job seekers find a job in this economy.Based on his remarkable expertise, Raskin's book provides exclusive insight into the job search process and lets readers in on all of the dirty little secrets to landing their first job—or a new one—and finding career success. ...more\", '\"If you have a heart, if you have a soul, Karen Hicks\\' The Coming Woman will make you fall in love with Victoria Woodhull.\"-Kinky Friedman, author and Governor of the Heart of Texas \"What kind of confidence would it take for a woman to buck the old boy\\'s club of politics in 1872? More than 140 years pre-Hillary, there was Victoria Woodhull. This book takes you back with a \"If you have a heart, if you have a soul, Karen Hicks\\' The Coming Woman will make you fall in love with Victoria Woodhull.\"-Kinky Friedman, author and Governor of the Heart of Texas \"What kind of confidence would it take for a woman to buck the old boy\\'s club of politics in 1872? More than 140 years pre-Hillary, there was Victoria Woodhull. This book takes you back with a breathtaking, present-tense bird\\'s eye view into a time when women\\'s liberation was primarily confined to one woman\\'s very capable, independent mind. I couldn\\'t put it down.\"---Ruth Buzzi, Golden Globe Award winner and Television Hall of Fame inductee\"Sadly, too many Americans have never heard of Victoria Woodhull, let alone learned of her story: her revolutionary campaign for the presidency at a time when women weren\\'t even allowed to vote, her support for worker\\'s rights, or her feminist commitment to equality, a century before the official battle over the Equal Rights Amendment. But in The Coming Woman, Karen Hicks brings Woodhull\\'s efforts to life, and reminds us that some of our nation\\'s greatest figures aren\\'t always featured in the history books. It is a riveting account of an amazing woman and her struggle for justice and human dignity, told in an engaging and eminently readable style.\"-Tim Wise, author, \"White Like Me: Reflections on Race from a Privileged Son\"\"The Coming Woman\" is a novel based on the life of feminist Victoria Woodhull, the first woman to run for U.S. President, 50 years before women could even vote!Running for President wasn\\'t Victoria\\'s only first as a woman. She was also the first to own a successful Wall Street firm, the first to publish a successful national newspaper, and the first to head the two-million-member Spiritualist Association. She was the first woman to enter the Senate Judiciary Committee chambers to petition for woman\\'s suffrage, her argument changing the entire focus of the suffragist movement by pointing out that the 14th and 15th Amendments already gave women the vote.In her campaign for the Presidency, Victoria Woodhull boldly addressed many of the issues we still face today: equal pay for equal work; freedom in love; corporate greed and political corruption fueled by powerful lobbyists; and the increasing disparity between the rich and the poor, to name only a few. Her outspoken and common-sense ideas may shed a new perspective on the parallel conundrums of today\\'s world.This bold, beautiful, and sexually progressive woman dared to take on society and religion. To make an example of the hypocrisy in what Mark Twain dubbed The Gilded Age, she exposed the extramarital affairs of the most popular religious figure of the day (Henry Ward Beecher). This led to her persecution and imprisonment and the longest, most infamous trial of the 19th century. But it did not stop her fight for equality.Victoria\\'s epic story, set in the late 1800s, comes to life in a modern, fictional style, while staying true to the actual words and views of the many well-known characters. ...more', \"For readers of Laura Hillenbrand's Seabiscuit and Unbroken, the dramatic story of the American rowing team that stunned the world at Hitler's 1936 Berlin Olympics Daniel James Brown's robust book tells the story of the University of Washington's 1936 eight-oar crew and their epic quest for an Olympic gold medal, a team that transformed the sport and grabbed the attention o For readers of Laura Hillenbrand's Seabiscuit and Unbroken, the dramatic story of the American rowing team that stunned the world at Hitler's 1936 Berlin Olympics Daniel James Brown's robust book tells the story of the University of Washington's 1936 eight-oar crew and their epic quest for an Olympic gold medal, a team that transformed the sport and grabbed the attention of millions of Americans. The sons of loggers, shipyard workers, and farmers, the boys defeated elite rivals first from eastern and British universities and finally the German crew rowing for Adolf Hitler in the Olympic games in Berlin, 1936. The emotional heart of the story lies with one rower, Joe Rantz, a teenager without family or prospects, who rows not for glory, but to regain his shattered self-regard and to find a place he can call home. The crew is assembled by an enigmatic coach and mentored by a visionary, eccentric British boat builder, but it is their trust in each other that makes them a victorious team. They remind the country of what can be done when everyone quite literally pulls together—a perfect melding of commitment, determination, and optimism. Drawing on the boys' own diaries and journals, their photos and memories of a once-in-a-lifetime shared dream, The Boys in the Boat is an irresistible story about beating the odds and finding hope in the most desperate of times—the improbable, intimate story of nine working-class boys from the American west who, in the depths of the Great Depression, showed the world what true grit really meant. It will appeal to readers of Erik Larson, Timothy Egan, James Bradley, and David Halberstam's The Amateurs. ...more\", 'Praise for Aracelis Girmay:\"[Girmay\\'s] every loss—she calls them estrangements—is a yearning for connection across time and place; her every fragment is a bulwark against ruin.\" — O, The Oprah Magazine \"In Aracelis Girmay we have a poet who collects, polishes, and shares stories with such brilliant invention, tenderness, and intellectual liveliness that it is understandabl Praise for Aracelis Girmay:\"[Girmay\\'s] every loss—she calls them estrangements—is a yearning for connection across time and place; her every fragment is a bulwark against ruin.\" — O, The Oprah Magazine \"In Aracelis Girmay we have a poet who collects, polishes, and shares stories with such brilliant invention, tenderness, and intellectual liveliness that it is understandable that we think of her as the blessed curator of our collective histories. There is in her art the vulnerability of one who lives inside of the stories that she gathers in this remarkable collection. Her poems set off alarms even as they transform the world she inhabits, showing us, in the process, exactly what she asks of Romare Bearden\\'s art: \\'...how not to // assign all blackness near the sea / a captivity.\\' This is one of the many sweet contradictions in the black maria, which \\'is a black flag / wounding the pastoral.\\' I am deeply thankful that we have a poet of her unique and singular talent writing today.\" —Kwame DawesTaking its name from the moon\\'s dark plains, misidentified as seas by early astronomers, the black maria investigates African diasporic histories, the consequences of racism within American culture, and the question of human identity. Central to this project is a desire to recognize the lives of Eritrean refugees who have been made invisible by years of immigration crisis, refugee status, exile, and resulting statelessness. The recipient of a 2015 Whiting Award for Poetry, Girmay\\'s newest collection elegizes and celebrates life, while wrestling with the humanistic notion of seeing beyond: seeing violence, seeing grace, and seeing each other better.\"to the sea\"great storage house, historyon which we rode, we touchedthe brief pulse of your flutteringpages, spelled with salt & life,your rage, your indifferenceyour gentleness washing our feet,all of you going onwhether or not we live,to you we bring our carnationsyellow & pink, how they floatlike bright sentences atopyour memory\\'s dark hairAracelis Girmay is the author of three poetry collections, the black maria; Kingdom Animalia, which won the Isabella Gardner Award and was a finalist for the NBCC Award; and Teeth. The recipient of a 2015 Whiting Award, she has received grants and fellowships from the Jerome, Cave Canem, and Watson foundations, as well as Civitella Ranieri and the NEA. She currently teaches at Hampshire College\\'s School for Interdisciplinary Arts and in Drew University\\'s low residency MFA program. Originally from Santa Ana, California, she splits her time between New York and Amherst, Massachusetts. ...more', \"Since her assault, Miss Annette Chetwynd has been plagued by nightmares and worries about an arranged marriage. But she yearns to find her anonymous rescuer. Unfortunately, her health and intellect prevent it. Both repel suitors and cause Annette to doubt God's existence, at least until He answers her prayers in an unusual way ... Mr. Peter Adsley is joining the clergy, an Since her assault, Miss Annette Chetwynd has been plagued by nightmares and worries about an arranged marriage. But she yearns to find her anonymous rescuer. Unfortunately, her health and intellect prevent it. Both repel suitors and cause Annette to doubt God's existence, at least until He answers her prayers in an unusual way ... Mr. Peter Adsley is joining the clergy, and he desires a godly wife by his side. After his failed attempt to obtain one, he engages in a clandestine meeting with the bewitching young woman who keeps crossing his path. But she is so unsettling. Destined for disappointments, Peter and Annette endure disgraceful situations. Will Peter's faith sustain him through overwhelming setbacks? Can Annette overcome her doubts? Or will their starving hearts yield to the machinations of a mad man? ...more\", 'This book is an important and complete collection of the Sonnets of William Shakespeare. Most readers are aware of the great plays and manuscripts written for the stage, but are unaware of the magnificent Sonnets which were written around the same period. This is an excellent, complete collection of the Sonnets and poetry of William Shakespeare and should not be missed by This book is an important and complete collection of the Sonnets of William Shakespeare. Most readers are aware of the great plays and manuscripts written for the stage, but are unaware of the magnificent Sonnets which were written around the same period. This is an excellent, complete collection of the Sonnets and poetry of William Shakespeare and should not be missed by those interested in the completion of a collection of his writings and those interested in early poetic works. ...more', 'Aaron Ledbetter\\'s future had been planned out for him since before he was born. Each year, the Ledbetter family vacation on Tybee Island gave Aaron a chance to briefly free himself from his family\\'s expectations. When he meets Jonas \"Lucky\" Luckett, a caricature artist in town with the traveling carnival, he must choose between the life that\\'s been mapped out for him, and Aaron Ledbetter\\'s future had been planned out for him since before he was born. Each year, the Ledbetter family vacation on Tybee Island gave Aaron a chance to briefly free himself from his family\\'s expectations. When he meets Jonas \"Lucky\" Luckett, a caricature artist in town with the traveling carnival, he must choose between the life that\\'s been mapped out for him, and the chance at true love. ...more', 'Scott Pilgrim\\'s life is totally sweet. He\\'s 23 years old, he\\'s in a rockband, he\\'s \"between jobs\" and he\\'s dating a cute high school girl. Nothing could possibly go wrong, unless a seriously mind-blowing, dangerously fashionable, rollerblading delivery girl named Ramona Flowers starts cruising through his dreams and sailing by him at parties. Will Scott\\'s awesome life get Scott Pilgrim\\'s life is totally sweet. He\\'s 23 years old, he\\'s in a rockband, he\\'s \"between jobs\" and he\\'s dating a cute high school girl. Nothing could possibly go wrong, unless a seriously mind-blowing, dangerously fashionable, rollerblading delivery girl named Ramona Flowers starts cruising through his dreams and sailing by him at parties. Will Scott\\'s awesome life get turned upside-down? Will he have to face Ramona\\'s seven evil ex-boyfriends in battle? The short answer is yes. The long answer is Scott Pilgrim, Volume 1: Scott Pilgrim\\'s Precious Little Life ...more', \"Punk's raw power rejuvenated rock, but by the summer of 1977 the movement had become a parody of itself. RIP IT UP AND START AGAIN is a celebration of what happened next.Post-punk bands like PiL, Joy Division, Talking Heads, The Fall and The Human League dedicated themselves to fulfilling punk's unfinished musical revolution. The post-punk groups were fervent modernists; w Punk's raw power rejuvenated rock, but by the summer of 1977 the movement had become a parody of itself. RIP IT UP AND START AGAIN is a celebration of what happened next.Post-punk bands like PiL, Joy Division, Talking Heads, The Fall and The Human League dedicated themselves to fulfilling punk's unfinished musical revolution. The post-punk groups were fervent modernists; whether experimenting with electronics and machine rhythm or adapting ideas from dub reggae and disco, they were totally confident they could invent a whole new future for music. ...more\", \"This is the never-before-told story of the musical revolution that happened right under the nose of the Reagan Eighties--when a small but sprawling network of bands, labels, fanzines, radio stations, and other subversives reenergized American rock with punk rock's do-it-yourself credo and created music that was deeply personal, often brilliant, always challenging, and imme This is the never-before-told story of the musical revolution that happened right under the nose of the Reagan Eighties--when a small but sprawling network of bands, labels, fanzines, radio stations, and other subversives reenergized American rock with punk rock's do-it-yourself credo and created music that was deeply personal, often brilliant, always challenging, and immensely influential. This sweeping chronicle of music, politics, drugs, fear, loathing, and faith has been recognized as an indie rock classic in its own right. Among the bands profiled: Mission of Burma, Butthole Surfers, The Minutemen, Sonic Youth, Black Flag, Big Black, Hüsker Dü, Fugazi, Minor Threat, Mudhoney, The Replacements, Beat Happening, and Dinosaur Jr. ...more\", \"Part fact, part fiction, Tyehimba Jess's much anticipated second book weaves sonnet, song, and narrative to examine the lives of mostly unrecorded African American performers directly before and after the Civil War up to World War I. Olio is an effort to understand how they met, resisted, complicated, co-opted, and sometimes defeated attempts to minstrelize them.So, while Part fact, part fiction, Tyehimba Jess's much anticipated second book weaves sonnet, song, and narrative to examine the lives of mostly unrecorded African American performers directly before and after the Civil War up to World War I. Olio is an effort to understand how they met, resisted, complicated, co-opted, and sometimes defeated attempts to minstrelize them.So, while I lead this choir, I still find thatI'm being led...I'm a missionarymending my faith in the midst of this flock...I toil in their fields of praise. When folks seethese freedmen stand and sing, they hear their Godspeak in tongues. These nine dark mouths sing shelter;they echo a hymn's haven from slavery's weather.Detroit native Tyehimba Jess' first book of poetry, leadbelly, was a winner of the 2004 National Poetry Series. Jess, a Cave Canem and NYU Alumni, has received fellowships from the Whiting Foundation, National Endowment for the Arts, Illinois Arts Council, and the Provincetown Fine Arts Work Center. Jess is also a veteran of the 2000 and 2001 Green Mill Poetry Slam Team. He exhibited his poetry at the 2011 TEDxNashville Conference. Jess is an Associate Professor of English at College of Staten Island. ...more\", 'Andrew Barger, award-winning author and engineer, has extensively researched forgotten journals and magazines of the early 19th century to locate groundbreaking science fiction short stories in the English language. In doing so, he found what is possibly the first science fiction story by a female (and it is not from Mary Shelley). Andrew located the first steampunk short Andrew Barger, award-winning author and engineer, has extensively researched forgotten journals and magazines of the early 19th century to locate groundbreaking science fiction short stories in the English language. In doing so, he found what is possibly the first science fiction story by a female (and it is not from Mary Shelley). Andrew located the first steampunk short story, which has not been republished since 1844. There is the first voyage to the moon in a balloon, republished for the first time since 1820 that further tells of a darkness machine and a lunarian named Zuloc. Other sci-stories include the first robotic insect and an electricity gun. Once again, Andrew has searched old texts to find the very best science fiction stories from the period when the genre automated to life, some of the stories are published for the first time in nearly 200 years. Read these fantastic stories today!OUR OWN COUNTRY So mechanical has the age become, that men seriously talk of flying machines, to go by steam, --not your air-balloons, but real Daedalian wings, made of wood and joints, nailed to your shoulder, --not wings of feathers and wax like the wings of Icarus, who fell into the Cretan sea, but real, solid, substantial, rock-maple wings with wrought-iron hinges, and huge concavities, to propel us through the air. Knickerbocker Magazine, May 18 ...more', 'Libertarianism isn\\'t about winning elections; it is first and foremost a political philosophy--a description of how, in the opinion of libertarians, free people ought to treat one another, at least when they use the law, which they regard as potentially dangerous. If libertarians are correct, the law should intrude into people\\'s lives as little as possible, rarely telling Libertarianism isn\\'t about winning elections; it is first and foremost a political philosophy--a description of how, in the opinion of libertarians, free people ought to treat one another, at least when they use the law, which they regard as potentially dangerous. If libertarians are correct, the law should intrude into people\\'s lives as little as possible, rarely telling them what to do or how to live.A political and economic philosophy as old as John Locke and John Stuart Mill, but as alive and timely as Rand Paul, the Tea Party, and the novels of Ayn Rand, libertarianism emphasizes individual rights and calls for a radical reduction in the power and size of government. \"Libertarianism For Beginners\" lays out the history and principles of this often-misunderstood philosophy in lucid, dispassionate terms that help illuminate today\\'s political dialogue.\" ...more', '\"Wherever you go, whatever you do, just . . . don\\'t do anything stupid.\" —My MotherDuring her yearlong adventure backpacking from South Africa to Singapore, S. Bedford definitely did a few things her mother might classify as \"stupid.\" She swam with great white sharks in South Africa, ran from lions in Zimbabwe, climbed a Himalayan mountain without training in Nepal, and wa \"Wherever you go, whatever you do, just . . . don\\'t do anything stupid.\" —My MotherDuring her yearlong adventure backpacking from South Africa to Singapore, S. Bedford definitely did a few things her mother might classify as \"stupid.\" She swam with great white sharks in South Africa, ran from lions in Zimbabwe, climbed a Himalayan mountain without training in Nepal, and watched as her friend was attacked by a monkey in Indonesia.But interspersed in those slightly more crazy moments, Sue Bedfored and her friend \"Sara the Stoic\" experienced the sights, sounds, life, and culture of fifteen countries. Joined along the way by a few friends and their aging fathers here and there, Sue and Sara experience the trip of a lifetime. They fall in love with the world, cultivate an appreciation for home, and discover who, or what, they want to become.It\\'s Only the Himalayas is the incredibly funny, sometimes outlandish, always entertaining confession of a young backpacker that will inspire you to take your own adventure. ...more']\n"
     ]
    }
   ],
   "source": [
    "def basic_clean(s):\n",
    "    if not isinstance(s, str):\n",
    "        return \"\"\n",
    "    s = fix_text(s)                         # fix encoding issues\n",
    "    s = unicodedata.normalize(\"NFKC\", s)    # normalize unicode (quotes, spaces, etc.)\n",
    "    s = s.replace(\"\\xa0\", \" \")              # convert non-breaking spaces to normal spaces\n",
    "    s = re.sub(r\"\\s+\", \" \", s).strip()      # collapse multiple spaces\n",
    "    return s\n",
    "\n",
    "df[\"Description_clean\"] = df[\"Description\"].apply(basic_clean)\n",
    "print(df[\"Description_clean\"].head(20).to_list())\n",
    "\n"
   ]
  },
  {
   "cell_type": "code",
   "execution_count": 28,
   "id": "d0c352f5",
   "metadata": {},
   "outputs": [
    {
     "data": {
      "text/plain": [
       "0    It's hard to imagine a world without A Light i...\n",
       "1    \"Erotic and absorbing...Written with starling ...\n",
       "2    Dans une France assez proche de la nôtre, un h...\n",
       "3    WICKED above her hipbone, GIRL across her hear...\n",
       "4    From a renowned historian comes a groundbreaki...\n",
       "Name: Description_clean, dtype: object"
      ]
     },
     "execution_count": 28,
     "metadata": {},
     "output_type": "execute_result"
    }
   ],
   "source": [
    "df.Description_clean.head(5)"
   ]
  },
  {
   "cell_type": "code",
   "execution_count": 29,
   "id": "1d763ffc",
   "metadata": {},
   "outputs": [],
   "source": [
    "# Drop the columns\n",
    "df.drop(columns=[\"Price\", \"Description\"], inplace=True)\n",
    "\n",
    "# Save to CSV without the index column\n",
    "df.to_csv(\"../preprocessed_data/preprocessed.csv\", index=False)\n"
   ]
  },
  {
   "cell_type": "code",
   "execution_count": 31,
   "id": "04185e05",
   "metadata": {},
   "outputs": [
    {
     "name": "stdout",
     "output_type": "stream",
     "text": [
      "<class 'pandas.core.frame.DataFrame'>\n",
      "RangeIndex: 1000 entries, 0 to 999\n",
      "Data columns (total 8 columns):\n",
      " #   Column             Non-Null Count  Dtype  \n",
      "---  ------             --------------  -----  \n",
      " 0   Title              1000 non-null   object \n",
      " 1   Availability       1000 non-null   object \n",
      " 2   Stock Count        1000 non-null   object \n",
      " 3   Rating             1000 non-null   object \n",
      " 4   Category           1000 non-null   object \n",
      " 5   UPC                1000 non-null   object \n",
      " 6   PriceGBP           1000 non-null   float64\n",
      " 7   Description_clean  1000 non-null   object \n",
      "dtypes: float64(1), object(7)\n",
      "memory usage: 62.6+ KB\n"
     ]
    }
   ],
   "source": [
    "df.info()"
   ]
  },
  {
   "cell_type": "code",
   "execution_count": null,
   "id": "dc3ad103",
   "metadata": {},
   "outputs": [],
   "source": []
  }
 ],
 "metadata": {
  "kernelspec": {
   "display_name": "Python 3",
   "language": "python",
   "name": "python3"
  },
  "language_info": {
   "codemirror_mode": {
    "name": "ipython",
    "version": 3
   },
   "file_extension": ".py",
   "mimetype": "text/x-python",
   "name": "python",
   "nbconvert_exporter": "python",
   "pygments_lexer": "ipython3",
   "version": "3.10.18"
  }
 },
 "nbformat": 4,
 "nbformat_minor": 5
}
